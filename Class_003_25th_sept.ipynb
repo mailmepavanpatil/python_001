{
  "nbformat": 4,
  "nbformat_minor": 0,
  "metadata": {
    "colab": {
      "provenance": [],
      "authorship_tag": "ABX9TyPgH4fbCw0ziTfuK0xLeL+U",
      "include_colab_link": true
    },
    "kernelspec": {
      "name": "python3",
      "display_name": "Python 3"
    },
    "language_info": {
      "name": "python"
    }
  },
  "cells": [
    {
      "cell_type": "markdown",
      "metadata": {
        "id": "view-in-github",
        "colab_type": "text"
      },
      "source": [
        "<a href=\"https://colab.research.google.com/github/mailmepavanpatil/python_001/blob/main/Class_003_25th_sept.ipynb\" target=\"_parent\"><img src=\"https://colab.research.google.com/assets/colab-badge.svg\" alt=\"Open In Colab\"/></a>"
      ]
    },
    {
      "cell_type": "markdown",
      "source": [
        "#Agenda\n",
        "1. Variable Case sensitive\n",
        "2. Reserved words in Python\n",
        "3. Multi assignment of variables\n",
        "4. User input\n",
        "5. type casting | type conversion\n",
        "6. memory block\n",
        "7. Operators\n",
        "  Logical\n",
        "  Equality \n",
        "  Comparision\n",
        "  Arithmitic\n",
        "  Bitwise[Advanced classes]\n",
        "  Operators for sets and dictoniries [Advanced classes]\n",
        "8. string methods\n"
      ],
      "metadata": {
        "id": "yY3WW81oRN1O"
      }
    },
    {
      "cell_type": "markdown",
      "source": [
        "#Variable Case sensitivivity"
      ],
      "metadata": {
        "id": "byYMPjvPTXDa"
      }
    },
    {
      "cell_type": "code",
      "execution_count": 1,
      "metadata": {
        "id": "Ai9X0VmnQe-J"
      },
      "outputs": [],
      "source": [
        "TEN = 10\n",
        "ten = 20\n",
        "# Ten and ten both are different in terms of lower and upper case"
      ]
    },
    {
      "cell_type": "code",
      "source": [
        "print(TEN)"
      ],
      "metadata": {
        "colab": {
          "base_uri": "https://localhost:8080/"
        },
        "id": "dO5GzDgbT0vt",
        "outputId": "c680e5df-b01a-4cb3-9508-23fed240678b"
      },
      "execution_count": 2,
      "outputs": [
        {
          "output_type": "stream",
          "name": "stdout",
          "text": [
            "10\n"
          ]
        }
      ]
    },
    {
      "cell_type": "code",
      "source": [
        "ten"
      ],
      "metadata": {
        "colab": {
          "base_uri": "https://localhost:8080/"
        },
        "id": "iMLA7rlyT6J7",
        "outputId": "91ed90a0-be6c-4a59-da52-4181432445d4"
      },
      "execution_count": 3,
      "outputs": [
        {
          "output_type": "execute_result",
          "data": {
            "text/plain": [
              "20"
            ]
          },
          "metadata": {},
          "execution_count": 3
        }
      ]
    },
    {
      "cell_type": "markdown",
      "source": [
        "#Reserved words in Python"
      ],
      "metadata": {
        "id": "zR3NQGNpUIDo"
      }
    },
    {
      "cell_type": "code",
      "source": [
        "print(\"Hi there\")"
      ],
      "metadata": {
        "colab": {
          "base_uri": "https://localhost:8080/"
        },
        "id": "ev5oThcRT_9p",
        "outputId": "39f44087-2aac-4b8d-82e2-b296c7e631fc"
      },
      "execution_count": 4,
      "outputs": [
        {
          "output_type": "stream",
          "name": "stdout",
          "text": [
            "Hi there\n"
          ]
        }
      ]
    },
    {
      "cell_type": "code",
      "source": [
        "print = \"Hi There\""
      ],
      "metadata": {
        "id": "4gSghsQaUXc_"
      },
      "execution_count": 5,
      "outputs": []
    },
    {
      "cell_type": "code",
      "source": [
        "del print #  delete the variable "
      ],
      "metadata": {
        "id": "u9gl7ZKWWzvD"
      },
      "execution_count": 6,
      "outputs": []
    },
    {
      "cell_type": "code",
      "source": [
        "print(\"Hi there\")"
      ],
      "metadata": {
        "colab": {
          "base_uri": "https://localhost:8080/"
        },
        "id": "qtWfNW88Ue7G",
        "outputId": "8f693b51-3b5d-4053-fab3-967da25613cc"
      },
      "execution_count": 7,
      "outputs": [
        {
          "output_type": "stream",
          "name": "stdout",
          "text": [
            "Hi there\n"
          ]
        }
      ]
    },
    {
      "cell_type": "code",
      "source": [
        "del = \"Hi there\" "
      ],
      "metadata": {
        "colab": {
          "base_uri": "https://localhost:8080/",
          "height": 130
        },
        "id": "-_gNfkGiX4i4",
        "outputId": "9dc24fb9-328c-4059-e1d8-465b7c802733"
      },
      "execution_count": 8,
      "outputs": [
        {
          "output_type": "error",
          "ename": "SyntaxError",
          "evalue": "ignored",
          "traceback": [
            "\u001b[0;36m  File \u001b[0;32m\"<ipython-input-8-b27631caaed1>\"\u001b[0;36m, line \u001b[0;32m1\u001b[0m\n\u001b[0;31m    del = \"Hi there\"\u001b[0m\n\u001b[0m        ^\u001b[0m\n\u001b[0;31mSyntaxError\u001b[0m\u001b[0;31m:\u001b[0m invalid syntax\n"
          ]
        }
      ]
    },
    {
      "cell_type": "code",
      "source": [],
      "metadata": {
        "id": "yNxUbvM8YC-T"
      },
      "execution_count": null,
      "outputs": []
    },
    {
      "cell_type": "markdown",
      "source": [
        "#Multi assignment of variables"
      ],
      "metadata": {
        "id": "DlyKgCBtXV0X"
      }
    },
    {
      "cell_type": "code",
      "source": [
        "a, b, c, yes = 10, 20.2 , \"Sunny\", True"
      ],
      "metadata": {
        "id": "Mj44WX33XYB9"
      },
      "execution_count": 16,
      "outputs": []
    },
    {
      "cell_type": "code",
      "source": [
        "type(a)"
      ],
      "metadata": {
        "colab": {
          "base_uri": "https://localhost:8080/"
        },
        "id": "13VqYIkuYYma",
        "outputId": "aacaebc1-ad4b-423b-eb03-6681fb1b23d7"
      },
      "execution_count": 10,
      "outputs": [
        {
          "output_type": "execute_result",
          "data": {
            "text/plain": [
              "int"
            ]
          },
          "metadata": {},
          "execution_count": 10
        }
      ]
    },
    {
      "cell_type": "code",
      "source": [
        "type(b)"
      ],
      "metadata": {
        "colab": {
          "base_uri": "https://localhost:8080/"
        },
        "id": "7DgNEhcEYa_8",
        "outputId": "a55f16ad-807c-4955-eb28-5d0e6414a51f"
      },
      "execution_count": 17,
      "outputs": [
        {
          "output_type": "execute_result",
          "data": {
            "text/plain": [
              "float"
            ]
          },
          "metadata": {},
          "execution_count": 17
        }
      ]
    },
    {
      "cell_type": "code",
      "source": [
        "type(c)"
      ],
      "metadata": {
        "colab": {
          "base_uri": "https://localhost:8080/"
        },
        "id": "K9q30lswYeMK",
        "outputId": "1810df94-cff7-4820-c139-93b8febd152a"
      },
      "execution_count": 12,
      "outputs": [
        {
          "output_type": "execute_result",
          "data": {
            "text/plain": [
              "str"
            ]
          },
          "metadata": {},
          "execution_count": 12
        }
      ]
    },
    {
      "cell_type": "code",
      "source": [
        "type(b)"
      ],
      "metadata": {
        "colab": {
          "base_uri": "https://localhost:8080/"
        },
        "id": "pSdb76G0YgPr",
        "outputId": "ac865bd6-ecb6-468f-9cec-6e46b2fbaf02"
      },
      "execution_count": 18,
      "outputs": [
        {
          "output_type": "execute_result",
          "data": {
            "text/plain": [
              "float"
            ]
          },
          "metadata": {},
          "execution_count": 18
        }
      ]
    },
    {
      "cell_type": "code",
      "source": [
        "type(yes)"
      ],
      "metadata": {
        "colab": {
          "base_uri": "https://localhost:8080/"
        },
        "id": "taMHYQ19Y3Wy",
        "outputId": "0c067810-20ce-481a-fa11-0f7958f73bf9"
      },
      "execution_count": 22,
      "outputs": [
        {
          "output_type": "execute_result",
          "data": {
            "text/plain": [
              "bool"
            ]
          },
          "metadata": {},
          "execution_count": 22
        }
      ]
    },
    {
      "cell_type": "code",
      "source": [
        "a, b, c, yes = 10"
      ],
      "metadata": {
        "colab": {
          "base_uri": "https://localhost:8080/",
          "height": 165
        },
        "id": "DsvPXXSvZHsL",
        "outputId": "86e77db5-7bb8-468c-abe4-86d25df93c86"
      },
      "execution_count": 20,
      "outputs": [
        {
          "output_type": "error",
          "ename": "TypeError",
          "evalue": "ignored",
          "traceback": [
            "\u001b[0;31m---------------------------------------------------------------------------\u001b[0m",
            "\u001b[0;31mTypeError\u001b[0m                                 Traceback (most recent call last)",
            "\u001b[0;32m<ipython-input-20-f2c1396d15bc>\u001b[0m in \u001b[0;36m<module>\u001b[0;34m\u001b[0m\n\u001b[0;32m----> 1\u001b[0;31m \u001b[0ma\u001b[0m\u001b[0;34m,\u001b[0m \u001b[0mb\u001b[0m\u001b[0;34m,\u001b[0m \u001b[0mc\u001b[0m\u001b[0;34m,\u001b[0m \u001b[0myes\u001b[0m \u001b[0;34m=\u001b[0m \u001b[0;36m10\u001b[0m\u001b[0;34m\u001b[0m\u001b[0;34m\u001b[0m\u001b[0m\n\u001b[0m",
            "\u001b[0;31mTypeError\u001b[0m: cannot unpack non-iterable int object"
          ]
        }
      ]
    },
    {
      "cell_type": "code",
      "source": [
        "print(type(a))\n",
        "print(type(b))\n",
        "print(type(c))\n",
        "print(type(yes))"
      ],
      "metadata": {
        "colab": {
          "base_uri": "https://localhost:8080/"
        },
        "id": "LF3r9W_5ZSJY",
        "outputId": "63bb7931-ca7e-455e-9fb4-f6a5f442977d"
      },
      "execution_count": 25,
      "outputs": [
        {
          "output_type": "stream",
          "name": "stdout",
          "text": [
            "<class 'int'>\n",
            "<class 'float'>\n",
            "<class 'str'>\n",
            "<class 'bool'>\n"
          ]
        }
      ]
    },
    {
      "cell_type": "code",
      "source": [
        "a, A, c, C = 10, 20.2 , \"Sunny\", True"
      ],
      "metadata": {
        "id": "w1quLVTlZr3O"
      },
      "execution_count": 26,
      "outputs": []
    },
    {
      "cell_type": "code",
      "source": [
        "print(a, A, c, C)"
      ],
      "metadata": {
        "colab": {
          "base_uri": "https://localhost:8080/"
        },
        "id": "4aCrRcBhaui9",
        "outputId": "f4310a82-dee9-442c-8cdf-0076570d8706"
      },
      "execution_count": 27,
      "outputs": [
        {
          "output_type": "stream",
          "name": "stdout",
          "text": [
            "10 20.2 Sunny True\n"
          ]
        }
      ]
    },
    {
      "cell_type": "code",
      "source": [
        "a=b=c=10"
      ],
      "metadata": {
        "id": "fMDRVkF9azsF"
      },
      "execution_count": 28,
      "outputs": []
    },
    {
      "cell_type": "code",
      "source": [
        "a,b,c"
      ],
      "metadata": {
        "colab": {
          "base_uri": "https://localhost:8080/"
        },
        "id": "GSE3StMaa6M7",
        "outputId": "3cbe804e-819f-4658-d748-86792e87c2f5"
      },
      "execution_count": 29,
      "outputs": [
        {
          "output_type": "execute_result",
          "data": {
            "text/plain": [
              "(10, 10, 10)"
            ]
          },
          "metadata": {},
          "execution_count": 29
        }
      ]
    },
    {
      "cell_type": "markdown",
      "source": [
        "#Note : please try before asking "
      ],
      "metadata": {
        "id": "eCIDHAZ7bCVA"
      }
    },
    {
      "cell_type": "markdown",
      "source": [
        "# User input"
      ],
      "metadata": {
        "id": "0yz1QlzAbbm9"
      }
    },
    {
      "cell_type": "code",
      "source": [
        "name = input(\"Enter your Name: \")\n",
        "print(f\"You have entered: {name}\")"
      ],
      "metadata": {
        "colab": {
          "base_uri": "https://localhost:8080/"
        },
        "id": "gTVPj_Gta8yy",
        "outputId": "bbc2d229-d0d6-4a6d-ad2c-1b0bcd7f112e"
      },
      "execution_count": 31,
      "outputs": [
        {
          "output_type": "stream",
          "name": "stdout",
          "text": [
            "Enter your Name: 1234\n",
            "You have entered: 1234\n"
          ]
        }
      ]
    },
    {
      "cell_type": "code",
      "source": [
        "A = input(\"Enter value of A: \")\n",
        "B = input(\"Enter value of B: \")\n",
        "\n",
        "print(f\"sum of A and B is: {A+B}\")"
      ],
      "metadata": {
        "colab": {
          "base_uri": "https://localhost:8080/"
        },
        "id": "gM0Uw1Myb0_t",
        "outputId": "31a8b5f8-3bbc-47c4-9730-68b3285b0261"
      },
      "execution_count": 32,
      "outputs": [
        {
          "output_type": "stream",
          "name": "stdout",
          "text": [
            "Enter value of A: 3\n",
            "Enter value of B: 4\n",
            "sum of A and B is: 34\n"
          ]
        }
      ]
    },
    {
      "cell_type": "code",
      "source": [
        "A = input(\"Enter value of A: \")\n",
        "B = input(\"Enter value of B: \")\n",
        "\n",
        "print(type(A), type(B))"
      ],
      "metadata": {
        "colab": {
          "base_uri": "https://localhost:8080/"
        },
        "id": "71_MJc19clpS",
        "outputId": "95e0c5ad-ac6c-44e1-a726-9d496d5641d6"
      },
      "execution_count": 33,
      "outputs": [
        {
          "output_type": "stream",
          "name": "stdout",
          "text": [
            "Enter value of A: 3\n",
            "Enter value of B: 4\n",
            "<class 'str'> <class 'str'>\n"
          ]
        }
      ]
    },
    {
      "cell_type": "code",
      "source": [
        "A = float(input(\"Enter value of A: \"))\n",
        "B = int(input(\"Enter value of B: \"))\n",
        "\n",
        "print(f\"sum of A and B is: {A+B}\")"
      ],
      "metadata": {
        "colab": {
          "base_uri": "https://localhost:8080/",
          "height": 252
        },
        "id": "Ijy9HPwtdGQr",
        "outputId": "1400b161-5cac-47b1-eb1e-ada09349c417"
      },
      "execution_count": 43,
      "outputs": [
        {
          "name": "stdout",
          "output_type": "stream",
          "text": [
            "Enter value of A: 10\n",
            "Enter value of B: 10.2\n"
          ]
        },
        {
          "output_type": "error",
          "ename": "ValueError",
          "evalue": "ignored",
          "traceback": [
            "\u001b[0;31m---------------------------------------------------------------------------\u001b[0m",
            "\u001b[0;31mValueError\u001b[0m                                Traceback (most recent call last)",
            "\u001b[0;32m<ipython-input-43-d7e119bcb957>\u001b[0m in \u001b[0;36m<module>\u001b[0;34m\u001b[0m\n\u001b[1;32m      1\u001b[0m \u001b[0mA\u001b[0m \u001b[0;34m=\u001b[0m \u001b[0mfloat\u001b[0m\u001b[0;34m(\u001b[0m\u001b[0minput\u001b[0m\u001b[0;34m(\u001b[0m\u001b[0;34m\"Enter value of A: \"\u001b[0m\u001b[0;34m)\u001b[0m\u001b[0;34m)\u001b[0m\u001b[0;34m\u001b[0m\u001b[0;34m\u001b[0m\u001b[0m\n\u001b[0;32m----> 2\u001b[0;31m \u001b[0mB\u001b[0m \u001b[0;34m=\u001b[0m \u001b[0mint\u001b[0m\u001b[0;34m(\u001b[0m\u001b[0minput\u001b[0m\u001b[0;34m(\u001b[0m\u001b[0;34m\"Enter value of B: \"\u001b[0m\u001b[0;34m)\u001b[0m\u001b[0;34m)\u001b[0m\u001b[0;34m\u001b[0m\u001b[0;34m\u001b[0m\u001b[0m\n\u001b[0m\u001b[1;32m      3\u001b[0m \u001b[0;34m\u001b[0m\u001b[0m\n\u001b[1;32m      4\u001b[0m \u001b[0mprint\u001b[0m\u001b[0;34m(\u001b[0m\u001b[0;34mf\"sum of A and B is: {A+B}\"\u001b[0m\u001b[0;34m)\u001b[0m\u001b[0;34m\u001b[0m\u001b[0;34m\u001b[0m\u001b[0m\n",
            "\u001b[0;31mValueError\u001b[0m: invalid literal for int() with base 10: '10.2'"
          ]
        }
      ]
    },
    {
      "cell_type": "code",
      "source": [
        "A = int(input(\"Enter value of A: \"))\n",
        "B = int(input(\"Enter value of B: \"))\n",
        "\n",
        "print(type(A), type(B))"
      ],
      "metadata": {
        "colab": {
          "base_uri": "https://localhost:8080/"
        },
        "id": "JIMfKIf6dXjD",
        "outputId": "b329839d-f91e-4729-b426-f27c32d2d159"
      },
      "execution_count": 35,
      "outputs": [
        {
          "output_type": "stream",
          "name": "stdout",
          "text": [
            "Enter value of A: 3\n",
            "Enter value of B: 4\n",
            "<class 'int'> <class 'int'>\n"
          ]
        }
      ]
    },
    {
      "cell_type": "code",
      "source": [
        "float(10)"
      ],
      "metadata": {
        "colab": {
          "base_uri": "https://localhost:8080/"
        },
        "id": "H5T7znzqdfck",
        "outputId": "52a18ec1-2087-41df-d5e9-a1c7f32beb45"
      },
      "execution_count": 44,
      "outputs": [
        {
          "output_type": "execute_result",
          "data": {
            "text/plain": [
              "10.0"
            ]
          },
          "metadata": {},
          "execution_count": 44
        }
      ]
    },
    {
      "cell_type": "code",
      "source": [
        "# String to intiger\n",
        "A = \"50\"\n",
        "print(f\"data type before: {type(A)}, value of A:  {A}\")\n",
        "A = int(A)\n",
        "print(f\"data type after: {type(A)}, value of A: {A}\")"
      ],
      "metadata": {
        "colab": {
          "base_uri": "https://localhost:8080/"
        },
        "id": "7XBGT5MHeT9p",
        "outputId": "d3b14683-8ed8-4881-cf3b-26f9a937b2cb"
      },
      "execution_count": 53,
      "outputs": [
        {
          "output_type": "stream",
          "name": "stdout",
          "text": [
            "data type before: <class 'str'>, value of A:  50\n",
            "data type after: <class 'int'>, value of A: 50\n"
          ]
        }
      ]
    },
    {
      "cell_type": "code",
      "source": [
        "# Float to intiger\n",
        "A = 50.22\n",
        "print(f\"data type before: {type(A)}, value of A:  {A}\")\n",
        "A = int(A)\n",
        "print(f\"data type after: {type(A)}, value of A:  {A}\")"
      ],
      "metadata": {
        "colab": {
          "base_uri": "https://localhost:8080/"
        },
        "id": "IB4eKRhJepGP",
        "outputId": "56594569-0ea7-4ee2-c64d-fcb2aac09043"
      },
      "execution_count": 52,
      "outputs": [
        {
          "output_type": "stream",
          "name": "stdout",
          "text": [
            "data type before: <class 'float'>, value of A:  50.22\n",
            "data type after: <class 'int'>, value of A:  50\n"
          ]
        }
      ]
    },
    {
      "cell_type": "code",
      "source": [
        "# Intiger to Float\n",
        "A = 50\n",
        "print(f\"data type before: {type(A)}, value of A:  {A}\")\n",
        "A = float(A)\n",
        "print(f\"data type after: {type(A)}, value of A:  {A}\")"
      ],
      "metadata": {
        "colab": {
          "base_uri": "https://localhost:8080/"
        },
        "id": "1Ri-ZqIMfxjx",
        "outputId": "43a9aab1-2deb-41a6-fe45-d509df6dde1e"
      },
      "execution_count": 54,
      "outputs": [
        {
          "output_type": "stream",
          "name": "stdout",
          "text": [
            "data type before: <class 'int'>, value of A:  50\n",
            "data type after: <class 'float'>, value of A:  50.0\n"
          ]
        }
      ]
    },
    {
      "cell_type": "code",
      "source": [
        "# Intiger to boolean\n",
        "A = 10\n",
        "print(f\"data type before: {type(A)}, value of A:  {A}\")\n",
        "A = bool(A)\n",
        "print(f\"data type after: {type(A)}, value of A:  {A}\")"
      ],
      "metadata": {
        "colab": {
          "base_uri": "https://localhost:8080/"
        },
        "id": "iS0RSSPMgwTS",
        "outputId": "ec670f2c-43cd-4b52-e8c4-2a6b7daa3530"
      },
      "execution_count": 55,
      "outputs": [
        {
          "output_type": "stream",
          "name": "stdout",
          "text": [
            "data type before: <class 'int'>, value of A:  10\n",
            "data type after: <class 'bool'>, value of A:  True\n"
          ]
        }
      ]
    },
    {
      "cell_type": "code",
      "source": [
        "# Intiger to boolean\n",
        "A = -5\n",
        "print(f\"data type before: {type(A)}, value of A:  {A}\")\n",
        "A = bool(A)\n",
        "print(f\"data type after: {type(A)}, value of A:  {A}\")"
      ],
      "metadata": {
        "colab": {
          "base_uri": "https://localhost:8080/"
        },
        "id": "4kd_vgBzg7Pa",
        "outputId": "c296be6c-6160-4724-93c8-eb92b6fc129d"
      },
      "execution_count": 58,
      "outputs": [
        {
          "output_type": "stream",
          "name": "stdout",
          "text": [
            "data type before: <class 'int'>, value of A:  -5\n",
            "data type after: <class 'bool'>, value of A:  True\n"
          ]
        }
      ]
    },
    {
      "cell_type": "code",
      "source": [
        "# String to boolean\n",
        "A = \"False\"\n",
        "print(f\"data type before: {type(A)}, value of A:  {A}\")\n",
        "A = bool(A)\n",
        "print(f\"data type after: {type(A)}, value of A:  {A}\")"
      ],
      "metadata": {
        "colab": {
          "base_uri": "https://localhost:8080/"
        },
        "id": "NaGlIWMVhFeg",
        "outputId": "8ed90a05-4a2e-486e-abf9-272fe23acfd8"
      },
      "execution_count": 62,
      "outputs": [
        {
          "output_type": "stream",
          "name": "stdout",
          "text": [
            "data type before: <class 'str'>, value of A:  False\n",
            "data type after: <class 'bool'>, value of A:  True\n"
          ]
        }
      ]
    },
    {
      "cell_type": "code",
      "source": [
        "# boolean to string\n",
        "A = True\n",
        "print(f\"data type before: {type(A)}, value of A:  {A}\")\n",
        "A = str(A)\n",
        "print(f\"data type after: {type(A)}, value of A:  {A}\")"
      ],
      "metadata": {
        "colab": {
          "base_uri": "https://localhost:8080/"
        },
        "id": "eS8AU3pIhY6Y",
        "outputId": "92ba1944-3048-41fb-c21f-7bd9353ae3e5"
      },
      "execution_count": 60,
      "outputs": [
        {
          "output_type": "stream",
          "name": "stdout",
          "text": [
            "data type before: <class 'bool'>, value of A:  True\n",
            "data type after: <class 'str'>, value of A:  True\n"
          ]
        }
      ]
    },
    {
      "cell_type": "code",
      "source": [
        "# String to boolean\n",
        "A = \"2+3j \"\n",
        "print(f\"data type before: {type(A)}, value of A:  {A}\")\n",
        "A = bool(A)\n",
        "print(f\"data type after: {type(A)}, value of A:  {A}\")\n"
      ],
      "metadata": {
        "colab": {
          "base_uri": "https://localhost:8080/"
        },
        "id": "vTHBUphzhqTH",
        "outputId": "845cf86e-9ee2-42e7-88b5-48e7e5c1fde8"
      },
      "execution_count": 65,
      "outputs": [
        {
          "output_type": "stream",
          "name": "stdout",
          "text": [
            "data type before: <class 'str'>, value of A:  2+3j \n",
            "data type after: <class 'bool'>, value of A:  True\n"
          ]
        }
      ]
    },
    {
      "cell_type": "code",
      "source": [
        "# empty String to integer\n",
        "A = \"\"\n",
        "print(f\"data type before: {type(A)}, value of A:  {A}\")\n",
        "A = int(A)\n",
        "print(f\"data type after: {type(A)}, value of A:  {A}\")"
      ],
      "metadata": {
        "colab": {
          "base_uri": "https://localhost:8080/",
          "height": 235
        },
        "id": "G1Yfk1WPiTju",
        "outputId": "2bdd0487-fb08-4362-cd8f-9a708103c51e"
      },
      "execution_count": 67,
      "outputs": [
        {
          "output_type": "stream",
          "name": "stdout",
          "text": [
            "data type before: <class 'str'>, value of A:  \n"
          ]
        },
        {
          "output_type": "error",
          "ename": "ValueError",
          "evalue": "ignored",
          "traceback": [
            "\u001b[0;31m---------------------------------------------------------------------------\u001b[0m",
            "\u001b[0;31mValueError\u001b[0m                                Traceback (most recent call last)",
            "\u001b[0;32m<ipython-input-67-4057fb87dde0>\u001b[0m in \u001b[0;36m<module>\u001b[0;34m\u001b[0m\n\u001b[1;32m      2\u001b[0m \u001b[0mA\u001b[0m \u001b[0;34m=\u001b[0m \u001b[0;34m\"\"\u001b[0m\u001b[0;34m\u001b[0m\u001b[0;34m\u001b[0m\u001b[0m\n\u001b[1;32m      3\u001b[0m \u001b[0mprint\u001b[0m\u001b[0;34m(\u001b[0m\u001b[0;34mf\"data type before: {type(A)}, value of A:  {A}\"\u001b[0m\u001b[0;34m)\u001b[0m\u001b[0;34m\u001b[0m\u001b[0;34m\u001b[0m\u001b[0m\n\u001b[0;32m----> 4\u001b[0;31m \u001b[0mA\u001b[0m \u001b[0;34m=\u001b[0m \u001b[0mint\u001b[0m\u001b[0;34m(\u001b[0m\u001b[0mA\u001b[0m\u001b[0;34m)\u001b[0m\u001b[0;34m\u001b[0m\u001b[0;34m\u001b[0m\u001b[0m\n\u001b[0m\u001b[1;32m      5\u001b[0m \u001b[0mprint\u001b[0m\u001b[0;34m(\u001b[0m\u001b[0;34mf\"data type after: {type(A)}, value of A:  {A}\"\u001b[0m\u001b[0;34m)\u001b[0m\u001b[0;34m\u001b[0m\u001b[0;34m\u001b[0m\u001b[0m\n",
            "\u001b[0;31mValueError\u001b[0m: invalid literal for int() with base 10: ''"
          ]
        }
      ]
    },
    {
      "cell_type": "code",
      "source": [],
      "metadata": {
        "id": "W-3ryUHGrDqX"
      },
      "execution_count": null,
      "outputs": []
    },
    {
      "cell_type": "markdown",
      "source": [
        "#Memory block"
      ],
      "metadata": {
        "id": "EfsvB_iTqKwc"
      }
    },
    {
      "cell_type": "code",
      "source": [
        "a=22\n",
        "b=34\n",
        "c=22"
      ],
      "metadata": {
        "id": "6qiD1yY1is2z"
      },
      "execution_count": 1,
      "outputs": []
    },
    {
      "cell_type": "code",
      "source": [
        "id(a) #Memory addres"
      ],
      "metadata": {
        "colab": {
          "base_uri": "https://localhost:8080/"
        },
        "id": "jP1iY32cVF-K",
        "outputId": "e775f1b4-3881-4ea8-fe80-d294e5ac14cb"
      },
      "execution_count": 2,
      "outputs": [
        {
          "output_type": "execute_result",
          "data": {
            "text/plain": [
              "9793760"
            ]
          },
          "metadata": {},
          "execution_count": 2
        }
      ]
    },
    {
      "cell_type": "code",
      "source": [
        "id(c)"
      ],
      "metadata": {
        "colab": {
          "base_uri": "https://localhost:8080/"
        },
        "id": "jqdAE5CoVIoh",
        "outputId": "317a55cd-1b7e-47b4-b251-3c2653fb9c45"
      },
      "execution_count": 3,
      "outputs": [
        {
          "output_type": "execute_result",
          "data": {
            "text/plain": [
              "9793760"
            ]
          },
          "metadata": {},
          "execution_count": 3
        }
      ]
    },
    {
      "cell_type": "code",
      "source": [
        "id(b)"
      ],
      "metadata": {
        "colab": {
          "base_uri": "https://localhost:8080/"
        },
        "id": "iwPEdS_aVNIk",
        "outputId": "8c4abd03-f474-49e8-999e-92a9b55e0e1e"
      },
      "execution_count": 4,
      "outputs": [
        {
          "output_type": "execute_result",
          "data": {
            "text/plain": [
              "9794144"
            ]
          },
          "metadata": {},
          "execution_count": 4
        }
      ]
    },
    {
      "cell_type": "code",
      "source": [
        "c=22 + b"
      ],
      "metadata": {
        "id": "BRuZxoboVQG6"
      },
      "execution_count": 5,
      "outputs": []
    },
    {
      "cell_type": "code",
      "source": [
        "id(c)"
      ],
      "metadata": {
        "colab": {
          "base_uri": "https://localhost:8080/"
        },
        "id": "ZrgmHrhhVfHh",
        "outputId": "27be41ee-2e91-4202-bbec-3b5097535a47"
      },
      "execution_count": 6,
      "outputs": [
        {
          "output_type": "execute_result",
          "data": {
            "text/plain": [
              "9794848"
            ]
          },
          "metadata": {},
          "execution_count": 6
        }
      ]
    },
    {
      "cell_type": "code",
      "source": [
        "a = 22\n",
        "id(a)"
      ],
      "metadata": {
        "colab": {
          "base_uri": "https://localhost:8080/"
        },
        "id": "0P-QoqTkVgxY",
        "outputId": "c3b715bb-77b9-46db-a2e3-b0a9cefeed88"
      },
      "execution_count": 7,
      "outputs": [
        {
          "output_type": "execute_result",
          "data": {
            "text/plain": [
              "9793760"
            ]
          },
          "metadata": {},
          "execution_count": 7
        }
      ]
    },
    {
      "cell_type": "code",
      "source": [
        "a = 23\n",
        "id(a)"
      ],
      "metadata": {
        "colab": {
          "base_uri": "https://localhost:8080/"
        },
        "id": "9HDFhL-WVqR3",
        "outputId": "bd09d778-44ef-4449-f93d-bfab14d3a34a"
      },
      "execution_count": 8,
      "outputs": [
        {
          "output_type": "execute_result",
          "data": {
            "text/plain": [
              "9793792"
            ]
          },
          "metadata": {},
          "execution_count": 8
        }
      ]
    },
    {
      "cell_type": "markdown",
      "source": [
        "Memory is assigned "
      ],
      "metadata": {
        "id": "q-cx79roVv4C"
      }
    },
    {
      "cell_type": "code",
      "source": [
        "a=\"P\"\n",
        "b=34\n",
        "c=\"P\"\n",
        "print(id(a), id(b), id(c))"
      ],
      "metadata": {
        "colab": {
          "base_uri": "https://localhost:8080/"
        },
        "id": "vzIjDRCXVtag",
        "outputId": "0c75f399-c841-4a53-e84a-018f5da4bace"
      },
      "execution_count": 15,
      "outputs": [
        {
          "output_type": "stream",
          "name": "stdout",
          "text": [
            "139660869516272 9794144 139660869516272\n"
          ]
        }
      ]
    },
    {
      "cell_type": "code",
      "source": [
        "a=22\n",
        "b=34\n",
        "c=22\n",
        "print(id(a), id(b), id(c))"
      ],
      "metadata": {
        "colab": {
          "base_uri": "https://localhost:8080/"
        },
        "id": "zK4nZGrBWDpQ",
        "outputId": "9e341fd3-ed0f-44f4-a859-a4ad1ba2f965"
      },
      "execution_count": 19,
      "outputs": [
        {
          "output_type": "stream",
          "name": "stdout",
          "text": [
            "9793760 9794144 9793760\n"
          ]
        }
      ]
    },
    {
      "cell_type": "markdown",
      "source": [
        "# Assignments\n",
        "## send the mail to \n",
        "TO query@ineuron.ai\n",
        "CC sunny@ineuron.ai, rishav@ineauron.ai\n",
        "Subject: [Bootcamp 2.0 | Assignment No.1]: \n",
        "1. Find out all the types of error that we have encoutered  in our lectures and why?\n",
        "Also include examles.\n",
        "2. Take input A and B and print ther sum, multiplication, div, square of the nos.\n",
        "3. How maney reserved keywords are there and why we should not use them as a variable name.\n",
        "4. Create email ids with the user inputs in the following format\n",
        "lastname.firstname@gmail.com\n",
        "5. Try to print the following lines -\n",
        "  Hi I'm Sunny\n",
        "  My address is 22\\3\n",
        "  I earn 20$ daily\n",
        "6. Take user input( name, address, DoB, etc) to fill a form for your college and create their email IDs\n",
        "7. Convert the following -\n",
        "  \"22.4\" into integer\n",
        "  \"22\" into complex no.\n",
        "  \"False\" into Complex no.\n",
        "\n"
      ],
      "metadata": {
        "id": "lvzeJJ9hXzew"
      }
    },
    {
      "cell_type": "code",
      "source": [],
      "metadata": {
        "id": "3BALZnJ3XGG0"
      },
      "execution_count": null,
      "outputs": []
    }
  ]
}